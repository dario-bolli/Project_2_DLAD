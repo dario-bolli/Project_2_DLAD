{
 "cells": [
  {
   "cell_type": "code",
   "execution_count": 1,
   "metadata": {},
   "outputs": [],
   "source": [
    "import torch\n",
    "import torch.nn.functional as F\n",
    "import torchvision.models.resnet as resnet"
   ]
  },
  {
   "cell_type": "code",
   "execution_count": 209,
   "metadata": {},
   "outputs": [],
   "source": [
    "\n",
    "class ASPPpart(torch.nn.Sequential):\n",
    "    def __init__(self, in_channels, out_channels, kernel_size, stride, padding, dilation):\n",
    "        super().__init__(\n",
    "            torch.nn.Conv2d(in_channels, out_channels, kernel_size, stride, padding, dilation, bias=False),\n",
    "            torch.nn.BatchNorm2d(out_channels),\n",
    "            torch.nn.ReLU(),\n",
    "        )\n",
    "\n",
    "\n",
    "class ASPP(torch.nn.Module):\n",
    "    def __init__(self, in_channels, out_channels, rates=(3, 6, 9)):\n",
    "        super().__init__()\n",
    "        # TODO: Implement ASPP properly instead of the following\n",
    "        modules = []\n",
    "        rates = [2*x for x in rates]\n",
    "        modules.append(ASPPpart(in_channels, out_channels, kernel_size=1, stride=1, padding=0, dilation=1))\n",
    "        for rate in rates:\n",
    "            modules.append(ASPPpart(in_channels, out_channels, kernel_size=3, stride=1, padding=rate, dilation=rate))\n",
    "       \n",
    "        #global_avg = torch.nn.AdaptiveAvgPool2d(1) does not work gives [256,512, H, W] instead of [256,256, H,W]\n",
    "        # therefore apply convolution with correct output channels\n",
    "        global_avg = torch.nn.Sequential(torch.nn.AdaptiveAvgPool2d(1),\n",
    "                                         torch.nn.Conv2d(in_channels, out_channels, kernel_size = 1))\n",
    "        modules.append(global_avg)\n",
    "        self.aspp_convs = torch.nn.ModuleList(modules)\n",
    "        print(\"In channels\", in_channels)\n",
    "        print(\"Out channels\", out_channels)\n",
    "        # At this stage when called, already concatenated so we know how many out channels we have for each conv.\n",
    "        # So total after concatenation of all diff layers of conv is len(self.aspp_convs)*out_channels\n",
    "        self.conv_1x1 = torch.nn.Conv2d(out_channels*len(self.aspp_convs), out_channels, kernel_size = 1)\n",
    "\n",
    "    def forward(self, x):\n",
    "        # TODO: Implement ASPP properly instead of the following\n",
    "        res = []                           \n",
    "        features_h = x.size()[2] # is height of feature map image\n",
    "        features_w = x.size()[3] # is width of feature map image\n",
    "        for layer in self.aspp_convs:\n",
    "            res.append(layer(x))\n",
    "            print(layer)\n",
    "            print(\"Tensor size = \", layer(x).size())\n",
    "        #res[4] is the output of the average pooling but has h= 1, w = 1 so we upsample it to the needed height and width\n",
    "        res[4] = F.interpolate(res[4],(features_h, features_w), mode = 'bilinear')\n",
    "        res = torch.cat(res, dim = 1)\n",
    "        print(\"after cat\")\n",
    "        return self.conv_1x1(res)"
   ]
  },
  {
   "cell_type": "code",
   "execution_count": 210,
   "metadata": {},
   "outputs": [
    {
     "name": "stdout",
     "output_type": "stream",
     "text": [
      "In channels 512\n",
      "Out channels 256\n"
     ]
    }
   ],
   "source": [
    "aspp = ASPP(512,256) # instanciate class"
   ]
  },
  {
   "cell_type": "code",
   "execution_count": 211,
   "metadata": {},
   "outputs": [
    {
     "name": "stdout",
     "output_type": "stream",
     "text": [
      "ASPPpart(\n",
      "  (0): Conv2d(512, 256, kernel_size=(1, 1), stride=(1, 1), bias=False)\n",
      "  (1): BatchNorm2d(256, eps=1e-05, momentum=0.1, affine=True, track_running_stats=True)\n",
      "  (2): ReLU()\n",
      ")\n",
      "Tensor size =  torch.Size([256, 256, 10, 10])\n",
      "ASPPpart(\n",
      "  (0): Conv2d(512, 256, kernel_size=(3, 3), stride=(1, 1), padding=(6, 6), dilation=(6, 6), bias=False)\n",
      "  (1): BatchNorm2d(256, eps=1e-05, momentum=0.1, affine=True, track_running_stats=True)\n",
      "  (2): ReLU()\n",
      ")\n",
      "Tensor size =  torch.Size([256, 256, 10, 10])\n",
      "ASPPpart(\n",
      "  (0): Conv2d(512, 256, kernel_size=(3, 3), stride=(1, 1), padding=(12, 12), dilation=(12, 12), bias=False)\n",
      "  (1): BatchNorm2d(256, eps=1e-05, momentum=0.1, affine=True, track_running_stats=True)\n",
      "  (2): ReLU()\n",
      ")\n",
      "Tensor size =  torch.Size([256, 256, 10, 10])\n",
      "ASPPpart(\n",
      "  (0): Conv2d(512, 256, kernel_size=(3, 3), stride=(1, 1), padding=(18, 18), dilation=(18, 18), bias=False)\n",
      "  (1): BatchNorm2d(256, eps=1e-05, momentum=0.1, affine=True, track_running_stats=True)\n",
      "  (2): ReLU()\n",
      ")\n",
      "Tensor size =  torch.Size([256, 256, 10, 10])\n",
      "Sequential(\n",
      "  (0): AdaptiveAvgPool2d(output_size=1)\n",
      "  (1): Conv2d(512, 256, kernel_size=(1, 1), stride=(1, 1))\n",
      ")\n",
      "Tensor size =  torch.Size([256, 256, 1, 1])\n",
      "after cat\n",
      "return size of forward =  torch.Size([256, 256, 10, 10])\n"
     ]
    }
   ],
   "source": [
    "features = torch.randn((256,512,10,10)) # format [BatchSize, Channels, Height, Width]\n",
    "features_tasks = aspp(features) # call forward method\n",
    "print(\"return size of forward = \", features_tasks.size())"
   ]
  }
 ],
 "metadata": {
  "kernelspec": {
   "display_name": "Python 3",
   "language": "python",
   "name": "python3"
  },
  "language_info": {
   "codemirror_mode": {
    "name": "ipython",
    "version": 3
   },
   "file_extension": ".py",
   "mimetype": "text/x-python",
   "name": "python",
   "nbconvert_exporter": "python",
   "pygments_lexer": "ipython3",
   "version": "3.8.3"
  }
 },
 "nbformat": 4,
 "nbformat_minor": 4
}
