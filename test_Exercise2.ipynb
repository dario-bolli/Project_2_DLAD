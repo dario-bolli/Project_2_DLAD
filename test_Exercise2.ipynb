{
 "cells": [
  {
   "cell_type": "code",
   "execution_count": 2,
   "metadata": {},
   "outputs": [],
   "source": [
    "import torch\n",
    "import torch.nn.functional as F\n",
    "import torchvision.models.resnet as resnet"
   ]
  },
  {
   "cell_type": "code",
   "execution_count": 16,
   "metadata": {},
   "outputs": [],
   "source": [
    "class DecoderDeeplabV3p(torch.nn.Module):\n",
    "    def __init__(self, bottleneck_ch, skip_4x_ch, num_out_ch):\n",
    "        super(DecoderDeeplabV3p, self).__init__()\n",
    "\n",
    "        # TODO: Implement a proper decoder with skip connections instead of the following\n",
    "        #self.features_to_predictions = torch.nn.Conv2d(bottleneck_ch, num_out_ch, kernel_size=1, stride=1)\n",
    "        self.features_to_predictions = torch.nn.Conv2d(num_out_ch, num_out_ch, kernel_size=1, stride=1)\n",
    "        self.conv1x1 = torch.nn.Conv2d(skip_4x_ch, num_out_ch, kernel_size = 1, stride = 1)\n",
    "        self.conv3x3 = torch.nn.Conv2d(num_out_ch + bottleneck_ch, num_out_ch, kernel_size = 3, stride = 1)\n",
    "        \n",
    "    def forward(self, features_bottleneck, features_skip_4x):\n",
    "        \"\"\"\n",
    "        DeepLabV3+ style decoder\n",
    "        :param features_bottleneck: bottleneck features of scale > 4 coming from aspp module\n",
    "        :param features_skip_4x: features of encoder of scale == 4 coming from DCNN\n",
    "        :return: features with 256 channels and the final tensor of predictions\n",
    "        \"\"\"\n",
    "        # TODO: Implement a proper decoder with skip connections instead of the following; keep returned\n",
    "        #       tensors in the same order and of the same shape.\n",
    "        \n",
    "        \n",
    "        features_aspp_4x = F.interpolate(\n",
    "                        features_bottleneck, size=features_skip_4x.shape[2:], mode='bilinear', align_corners=False)\n",
    "        dcnn_features = selv.conv1x1(features_skip_4x)\n",
    "        concat = torch.cat([features_aspp_4x, dcnn_features], dim = 1)\n",
    "        features = self.conv3x3(concat)\n",
    "        features_4x = F.interpolate(\n",
    "                        features, size=features_skip_4x.shape[2:], mode='bilinear', align_corners=False)\n",
    "        predictions_4x = self.features_to_predictions(features_4x)\n",
    "        return predictions_4x, features_4x\n",
    "\n",
    "\n",
    "class ASPPpart(torch.nn.Sequential):\n",
    "    def __init__(self, in_channels, out_channels, kernel_size, stride, padding, dilation):\n",
    "        super().__init__(\n",
    "            torch.nn.Conv2d(in_channels, out_channels, kernel_size, stride, padding, dilation, bias=False),\n",
    "            torch.nn.BatchNorm2d(out_channels),\n",
    "            torch.nn.ReLU(),\n",
    "        )\n",
    "\n",
    "\n",
    "class ASPP(torch.nn.Module):\n",
    "    def __init__(self, in_channels, out_channels, rates=(3, 6, 9)):\n",
    "        super().__init__()\n",
    "        # TODO: Implement ASPP properly instead of the following\n",
    "        modules = []\n",
    "        rates = [2*x for x in rates]\n",
    "        modules.append(ASPPpart(in_channels, out_channels, kernel_size=1, stride=1, padding=0, dilation=1))\n",
    "        for rate in rates:\n",
    "            modules.append(ASPPpart(in_channels, out_channels, kernel_size=3, stride=1, padding=rate, dilation=rate))\n",
    "       \n",
    "        #global_avg = torch.nn.AdaptiveAvgPool2d(1) does not work gives [256,512, H, W] instead of [256,256, H,W]\n",
    "        # therefore apply convolution with correct output channels\n",
    "        global_avg = torch.nn.Sequential(torch.nn.AdaptiveAvgPool2d(1),\n",
    "                                         torch.nn.Conv2d(in_channels, out_channels, kernel_size = 1))\n",
    "        modules.append(global_avg)\n",
    "        self.aspp_convs = torch.nn.ModuleList(modules)\n",
    "        print(\"In channels\", in_channels)\n",
    "        print(\"Out channels\", out_channels)\n",
    "        # At this stage when called, already concatenated so we know how many out channels we have for each conv.\n",
    "        # So total after concatenation of all diff layers of conv is len(self.aspp_convs)*out_channels\n",
    "        self.conv_1x1 = torch.nn.Conv2d(out_channels*len(self.aspp_convs), out_channels, kernel_size = 1)\n",
    "\n",
    "    def forward(self, x):\n",
    "        # TODO: Implement ASPP properly instead of the following\n",
    "        res = []\n",
    "        resolution_h_w = (x.shape[2], x.shape[3]) # height and width of feature map image\n",
    "        for layer in self.aspp_convs:\n",
    "            res.append(layer(x))\n",
    "            print(layer)\n",
    "            print(\"Tensor size = \", layer(x).size())\n",
    "        #res[4] is the output of the average pooling but has h= 1, w = 1 so we upsample it to the needed height and width\n",
    "        res[4] = F.interpolate(res[4],resolution_h_w, mode = 'bilinear', align_corners=False)\n",
    "        res = torch.cat(res, dim = 1)\n",
    "        print(\"after cat\")\n",
    "        return self.conv_1x1(res)"
   ]
  },
  {
   "cell_type": "code",
   "execution_count": 13,
   "metadata": {},
   "outputs": [
    {
     "name": "stdout",
     "output_type": "stream",
     "text": [
      "In channels 512\n",
      "Out channels 256\n"
     ]
    }
   ],
   "source": [
    "aspp = ASPP(512,256) # instanciate class"
   ]
  },
  {
   "cell_type": "code",
   "execution_count": 14,
   "metadata": {},
   "outputs": [
    {
     "name": "stdout",
     "output_type": "stream",
     "text": [
      "ASPPpart(\n",
      "  (0): Conv2d(512, 256, kernel_size=(1, 1), stride=(1, 1), bias=False)\n",
      "  (1): BatchNorm2d(256, eps=1e-05, momentum=0.1, affine=True, track_running_stats=True)\n",
      "  (2): ReLU()\n",
      ")\n",
      "Tensor size =  torch.Size([256, 256, 10, 10])\n",
      "ASPPpart(\n",
      "  (0): Conv2d(512, 256, kernel_size=(3, 3), stride=(1, 1), padding=(6, 6), dilation=(6, 6), bias=False)\n",
      "  (1): BatchNorm2d(256, eps=1e-05, momentum=0.1, affine=True, track_running_stats=True)\n",
      "  (2): ReLU()\n",
      ")\n",
      "Tensor size =  torch.Size([256, 256, 10, 10])\n",
      "ASPPpart(\n",
      "  (0): Conv2d(512, 256, kernel_size=(3, 3), stride=(1, 1), padding=(12, 12), dilation=(12, 12), bias=False)\n",
      "  (1): BatchNorm2d(256, eps=1e-05, momentum=0.1, affine=True, track_running_stats=True)\n",
      "  (2): ReLU()\n",
      ")\n",
      "Tensor size =  torch.Size([256, 256, 10, 10])\n",
      "ASPPpart(\n",
      "  (0): Conv2d(512, 256, kernel_size=(3, 3), stride=(1, 1), padding=(18, 18), dilation=(18, 18), bias=False)\n",
      "  (1): BatchNorm2d(256, eps=1e-05, momentum=0.1, affine=True, track_running_stats=True)\n",
      "  (2): ReLU()\n",
      ")\n",
      "Tensor size =  torch.Size([256, 256, 10, 10])\n",
      "Sequential(\n",
      "  (0): AdaptiveAvgPool2d(output_size=1)\n",
      "  (1): Conv2d(512, 256, kernel_size=(1, 1), stride=(1, 1))\n",
      ")\n",
      "Tensor size =  torch.Size([256, 256, 1, 1])\n",
      "after cat\n",
      "return size of forward =  torch.Size([256, 256, 10, 10])\n"
     ]
    }
   ],
   "source": [
    "features = torch.randn((256,512,10,10)) # format [BatchSize, Channels, Height, Width]\n",
    "features_tasks = aspp(features) # call forward method\n",
    "print(\"return size of forward = \", features_tasks.size())"
   ]
  },
  {
   "cell_type": "code",
   "execution_count": null,
   "metadata": {},
   "outputs": [],
   "source": []
  }
 ],
 "metadata": {
  "kernelspec": {
   "display_name": "Python 3",
   "language": "python",
   "name": "python3"
  },
  "language_info": {
   "codemirror_mode": {
    "name": "ipython",
    "version": 3
   },
   "file_extension": ".py",
   "mimetype": "text/x-python",
   "name": "python",
   "nbconvert_exporter": "python",
   "pygments_lexer": "ipython3",
   "version": "3.8.3"
  }
 },
 "nbformat": 4,
 "nbformat_minor": 4
}
